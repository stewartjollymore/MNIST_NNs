{
  "nbformat": 4,
  "nbformat_minor": 0,
  "metadata": {
    "colab": {
      "provenance": [],
      "authorship_tag": "ABX9TyOIGdLAneOgRRAvlR4o0q5K",
      "include_colab_link": true
    },
    "kernelspec": {
      "name": "python3",
      "display_name": "Python 3"
    },
    "language_info": {
      "name": "python"
    }
  },
  "cells": [
    {
      "cell_type": "markdown",
      "metadata": {
        "id": "view-in-github",
        "colab_type": "text"
      },
      "source": [
        "<a href=\"https://colab.research.google.com/github/stewartjollymore/MNIST_NNs/blob/main/Numpy%20NNs/Fully_Connected_singlepass_MNIST.ipynb\" target=\"_parent\"><img src=\"https://colab.research.google.com/assets/colab-badge.svg\" alt=\"Open In Colab\"/></a>"
      ]
    },
    {
      "cell_type": "code",
      "execution_count": null,
      "metadata": {
        "id": "D1MuwJwbZ4T0",
        "colab": {
          "base_uri": "https://localhost:8080/"
        },
        "outputId": "44262f51-a4a1-4027-dca8-fc7052068414"
      },
      "outputs": [
        {
          "output_type": "stream",
          "name": "stdout",
          "text": [
            "Downloading data from https://storage.googleapis.com/tensorflow/tf-keras-datasets/mnist.npz\n",
            "11490434/11490434 [==============================] - 0s 0us/step\n"
          ]
        }
      ],
      "source": [
        "from keras.datasets import mnist\n",
        "from keras.utils import to_categorical\n",
        "\n",
        "\n",
        "#Below we separate and arange the data as seen around the web\n",
        "(x_train, y_train), (x_test, y_test) = mnist.load_data()\n",
        "\n",
        "x_train = x_train.reshape(x_train.shape[0], 1, 28*28)\n",
        "x_train = x_train.astype('float32')\n",
        "x_train /= 255\n",
        "# encode output which is a number in range [0,9] into a vector of size 10\n",
        "# e.g. number 3 will become [0, 0, 0, 1, 0, 0, 0, 0, 0, 0]\n",
        "y_train = to_categorical(y_train)\n",
        "\n",
        "# same for test data : 10000 samples\n",
        "x_test = x_test.reshape(x_test.shape[0], 1, 28*28)\n",
        "x_test = x_test.astype('float32')\n",
        "x_test /= 255\n",
        "y_test = to_categorical(y_test)"
      ]
    },
    {
      "cell_type": "code",
      "source": [
        "#Creating the layer dimensions\n",
        "\n",
        "input_size1 = 28*28\n",
        "output_size1 = 100\n",
        "input_size2 = 100\n",
        "output_size2 = 50\n",
        "input_sizefinal = 50\n",
        "output_sizefinal = 10"
      ],
      "metadata": {
        "id": "00xRUzVwaUjN"
      },
      "execution_count": null,
      "outputs": []
    },
    {
      "cell_type": "code",
      "source": [
        "import numpy as np\n",
        "\n",
        "#Initialze weights and biases\n",
        "\n",
        "w1 = np.random.rand(input_size1, output_size1) - 0.5\n",
        "b1 = np.random.rand(1, output_size1) - 0.5\n",
        "\n",
        "w2 = np.random.rand(input_size2, output_size2) - 0.5\n",
        "b2 = np.random.rand(1, output_size2) - 0.5\n",
        "\n",
        "w3 = np.random.rand(input_sizefinal, output_sizefinal) -0.5\n",
        "b3 = np.random.rand(1, output_sizefinal) - 0.5"
      ],
      "metadata": {
        "id": "u8KCrq5deGU0"
      },
      "execution_count": 42,
      "outputs": []
    },
    {
      "cell_type": "code",
      "source": [
        "import tensorflow as tf\n",
        "import keras as ks\n",
        "\n",
        "#Define activations for forward prop and backprop\n",
        "\n",
        "def sigmd(x):\n",
        "  return  1/(1+np.exp(-x))\n",
        "\n",
        "def gradient(x):\n",
        "  return sigmd(x)*(1-sigmd(x))\n"
      ],
      "metadata": {
        "id": "qh_nNjvlhD1Y"
      },
      "execution_count": null,
      "outputs": []
    },
    {
      "cell_type": "code",
      "source": [
        "#Single pass for a single data element\n",
        "\n",
        "single_xtrain = x_train[0]\n",
        "single_ytrain = y_train[0]\n",
        "\n",
        "#Pass through first hidden layer and activation neruon\n",
        "layer1 = np.dot(single_xtrain,w1)+b1\n",
        "act_layer1 = sigmd(layer1)\n",
        "\n",
        "#Pass through second hidden layer and activation neuron\n",
        "layer2 = np.dot(act_layer1,w2)+b2\n",
        "act_layer2 = sigmd(layer2)\n",
        "\n",
        "#Pass through output layer and acrivation neuron\n",
        "layer3 = np.dot(act_layer2,w3)+b3\n",
        "output = sigmd(layer3)"
      ],
      "metadata": {
        "id": "tUtvhPZrSkqS"
      },
      "execution_count": 43,
      "outputs": []
    },
    {
      "cell_type": "code",
      "source": [
        "#define the error metrics\n",
        "\n",
        "def mse(y_true, y_pred):\n",
        "    return np.mean(np.power(y_true-y_pred, 2));\n",
        "\n",
        "def mse_grad(y_true, y_pred):\n",
        "    return 2*(y_pred-y_true)/y_true.size;"
      ],
      "metadata": {
        "id": "MvBV7mzjrBqF"
      },
      "execution_count": null,
      "outputs": []
    },
    {
      "cell_type": "code",
      "source": [
        "#Mesuring measn squared error\n",
        "output_error = mse(single_ytrain, output)\n",
        "output_error"
      ],
      "metadata": {
        "colab": {
          "base_uri": "https://localhost:8080/"
        },
        "id": "hlhw0pWFvJn_",
        "outputId": "cbea0acb-ed37-44e8-b0f4-53ea86056c14"
      },
      "execution_count": 44,
      "outputs": [
        {
          "output_type": "execute_result",
          "data": {
            "text/plain": [
              "0.3349214564150429"
            ]
          },
          "metadata": {},
          "execution_count": 44
        }
      ]
    },
    {
      "cell_type": "code",
      "source": [
        "#Backward Propigation steps\n",
        "\n",
        "#Define batch size and learning rate\n",
        "N = single_ytrain.size\n",
        "learning_rate = 0.1\n",
        "\n",
        "#calculate the output error\n",
        "#output_error = mse_grad(single_ytrain,output)\n",
        "output_error = single_ytrain - output\n",
        "\n",
        "#Backprop through output layer\n",
        "output_grad = output_error*gradient(output)\n",
        "w3_grad = np.dot(layer2.T, output_grad)\n",
        "b3_grad = np.sum(output_grad)\n",
        "layer2_grad = np.dot(output_grad, w3.T)*gradient(act_layer2)\n",
        "\n",
        "w2_grad = np.dot(layer1.T, layer2_grad)\n",
        "b2_grad = np.sum(layer2_grad, axis = 0, keepdims=True)\n",
        "layer1_grad = np.dot(layer2_grad,w2.T)*gradient(act_layer1)\n",
        "\n",
        "w1_grad = np.dot(single_xtrain.T, layer1_grad)\n",
        "b1_grad = np.sum(layer1_grad, axis = 0, keepdims = True)\n",
        "\n",
        "#Updating the new weights by magnitude of the learning rate\n",
        "w3_new = learning_rate*w3_grad\n",
        "w2_new = learning_rate*w2_grad\n",
        "w1_new = learning_rate*w1_grad\n",
        "\n",
        "#Updating the new biases\n",
        "b3_new = learning_rate*b3_grad\n",
        "b2_new = learning_rate*b2_grad\n",
        "b1_new = learning_rate*b1_grad"
      ],
      "metadata": {
        "id": "UaiCeYv9wZ89"
      },
      "execution_count": 45,
      "outputs": []
    },
    {
      "cell_type": "code",
      "source": [
        "#Second pass through forward direction and\n",
        "#error calculation\n",
        "\n",
        "layer1_new = np.dot(single_xtrain,w1_new)+b1_new\n",
        "act_layer1_new = sigmd(layer1_new)\n",
        "\n",
        "layer2_new = np.dot(act_layer1_new,w2_new)+b2_new\n",
        "act_layer2_new = sigmd(layer2_new)\n",
        "\n",
        "layer3_new = np.dot(act_layer2_new,w3_new)+b3_new\n",
        "output_new = sigmd(layer3_new)\n",
        "\n",
        "mse(single_ytrain, output_new)"
      ],
      "metadata": {
        "colab": {
          "base_uri": "https://localhost:8080/"
        },
        "id": "eXndUShrF5Bb",
        "outputId": "f78a1aca-dd7d-461c-c601-247dfe315a11"
      },
      "execution_count": 46,
      "outputs": [
        {
          "output_type": "execute_result",
          "data": {
            "text/plain": [
              "0.22540716501085561"
            ]
          },
          "metadata": {},
          "execution_count": 46
        }
      ]
    },
    {
      "cell_type": "code",
      "source": [
        "print(output)\n",
        "print(output_new)"
      ],
      "metadata": {
        "colab": {
          "base_uri": "https://localhost:8080/"
        },
        "id": "QZiAjLQmnmzn",
        "outputId": "978ec103-be48-4b70-a4a3-019656bc71c6"
      },
      "execution_count": 48,
      "outputs": [
        {
          "output_type": "stream",
          "name": "stdout",
          "text": [
            "[[0.67424512 0.24510045 0.90499412 0.72857314 0.65836604 0.64413475\n",
            "  0.69447591 0.30568622 0.35651924 0.47092244]]\n",
            "[[0.468139   0.47150177 0.46684466 0.46779721 0.46824303 0.47674066\n",
            "  0.46800916 0.47096968 0.47053464 0.46960164]]\n"
          ]
        }
      ]
    }
  ]
}