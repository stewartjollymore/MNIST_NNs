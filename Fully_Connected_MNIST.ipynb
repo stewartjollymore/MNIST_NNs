{
  "nbformat": 4,
  "nbformat_minor": 0,
  "metadata": {
    "colab": {
      "provenance": [],
      "authorship_tag": "ABX9TyOLMzJJD+aQotOfYTh2bI6V",
      "include_colab_link": true
    },
    "kernelspec": {
      "name": "python3",
      "display_name": "Python 3"
    },
    "language_info": {
      "name": "python"
    }
  },
  "cells": [
    {
      "cell_type": "markdown",
      "metadata": {
        "id": "view-in-github",
        "colab_type": "text"
      },
      "source": [
        "<a href=\"https://colab.research.google.com/github/stewartjollymore/MNIST_NNs/blob/main/Fully_Connected_MNIST.ipynb\" target=\"_parent\"><img src=\"https://colab.research.google.com/assets/colab-badge.svg\" alt=\"Open In Colab\"/></a>"
      ]
    },
    {
      "cell_type": "code",
      "execution_count": null,
      "metadata": {
        "id": "D1MuwJwbZ4T0",
        "colab": {
          "base_uri": "https://localhost:8080/"
        },
        "outputId": "b1747d24-1d68-4d5e-c454-b5774893ae38"
      },
      "outputs": [
        {
          "output_type": "stream",
          "name": "stdout",
          "text": [
            "Downloading data from https://storage.googleapis.com/tensorflow/tf-keras-datasets/mnist.npz\n",
            "11490434/11490434 [==============================] - 0s 0us/step\n"
          ]
        }
      ],
      "source": [
        "from keras.datasets import mnist\n",
        "from keras.utils import to_categorical\n",
        "\n",
        "\n",
        "#Below we separate and arange the data as seen around the web\n",
        "(x_train, y_train), (x_test, y_test) = mnist.load_data()\n",
        "\n",
        "x_train = x_train.reshape(x_train.shape[0], 1, 28*28)\n",
        "x_train = x_train.astype('float32')\n",
        "x_train /= 255\n",
        "# encode output which is a number in range [0,9] into a vector of size 10\n",
        "# e.g. number 3 will become [0, 0, 0, 1, 0, 0, 0, 0, 0, 0]\n",
        "y_train = to_categorical(y_train)\n",
        "\n",
        "# same for test data : 10000 samples\n",
        "x_test = x_test.reshape(x_test.shape[0], 1, 28*28)\n",
        "x_test = x_test.astype('float32')\n",
        "x_test /= 255\n",
        "y_test = to_categorical(y_test)"
      ]
    },
    {
      "cell_type": "code",
      "source": [
        "input_size1 = 28*28\n",
        "output_size1 = 100\n",
        "input_size2 = 100\n",
        "output_size2 = 50\n",
        "input_sizefinal = 50\n",
        "output_sizefinal = 10"
      ],
      "metadata": {
        "id": "00xRUzVwaUjN"
      },
      "execution_count": null,
      "outputs": []
    },
    {
      "cell_type": "code",
      "source": [
        "import numpy as np\n",
        "\n",
        "#Initialze weights and biases\n",
        "\n",
        "w1 = np.random.rand(input_size1, output_size1) - 0.5\n",
        "b1 = np.random.rand(1, output_size1) - 0.5\n",
        "\n",
        "w2 = np.random.rand(input_size2, output_size2) - 0.5\n",
        "b2 = np.random.rand(1, output_size2) - 0.5\n",
        "\n",
        "w3 = np.random.rand(input_sizefinal, output_sizefinal) -0.5\n",
        "b3 = np.random.rand(1, output_sizefinal) - 0.5"
      ],
      "metadata": {
        "id": "u8KCrq5deGU0"
      },
      "execution_count": null,
      "outputs": []
    },
    {
      "cell_type": "code",
      "source": [
        "import tensorflow as tf\n",
        "import keras as ks\n",
        "\n",
        "#define activations for forward prop and backprop\n",
        "\n",
        "def sigmd(x):\n",
        "  return  1/(1+np.exp(-x))\n",
        "\n",
        "def gradient(x):\n",
        "  return sigmd(x)*(1-sigmd(x))\n"
      ],
      "metadata": {
        "id": "qh_nNjvlhD1Y"
      },
      "execution_count": null,
      "outputs": []
    },
    {
      "cell_type": "code",
      "source": [
        "## Testing a single pass for a single data element\n",
        "\n",
        "single_xtrain = x_train[0]\n",
        "single_ytrain = y_train[0]\n",
        "\n",
        "layer1 = np.dot(single_xtrain,w1)+b1\n",
        "act_layer1 = sigmd(layer1)\n",
        "\n",
        "layer2 = np.dot(act_layer1,w2)+b2\n",
        "act_layer2 = sigmd(layer2)\n",
        "\n",
        "layer3 = np.dot(act_layer2,w3)+b3\n",
        "output = sigmd(layer3)"
      ],
      "metadata": {
        "id": "tUtvhPZrSkqS"
      },
      "execution_count": 39,
      "outputs": []
    },
    {
      "cell_type": "code",
      "source": [
        "#define the error metrics\n",
        "\n",
        "def mse(y_true, y_pred):\n",
        "    return np.mean(np.power(y_true-y_pred, 2));\n",
        "\n",
        "def mse_grad(y_true, y_pred):\n",
        "    return 2*(y_pred-y_true)/y_true.size;"
      ],
      "metadata": {
        "id": "MvBV7mzjrBqF"
      },
      "execution_count": 41,
      "outputs": []
    },
    {
      "cell_type": "code",
      "source": [
        "output_error = mse(single_ytrain, output)\n",
        "output_error"
      ],
      "metadata": {
        "colab": {
          "base_uri": "https://localhost:8080/"
        },
        "id": "hlhw0pWFvJn_",
        "outputId": "c15e327f-3d5c-4a75-fca8-7137c667d1cd"
      },
      "execution_count": 46,
      "outputs": [
        {
          "output_type": "execute_result",
          "data": {
            "text/plain": [
              "0.31551762382266035"
            ]
          },
          "metadata": {},
          "execution_count": 46
        }
      ]
    },
    {
      "cell_type": "code",
      "source": [
        "N = single_ytrain.size\n",
        "\n",
        "output_layer_error = output - single_ytrain\n",
        "output_layer_delta = output_layer_error * gradient(output)\n",
        "\n",
        "hidden_layer_error3 = np.dot(output_layer_delta, w3.T)\n",
        "hidden_layer_delta3 = hidden_layer_error3 * gradient(act_layer2)\n",
        "\n",
        "hidden_layer_error2 = np.dot(hidden_layer_delta3, w2.T)\n",
        "hidden_layer_delta2 = hidden_layer_error2 * gradient(act_layer1)\n",
        "\n",
        "hidden_layer_error1 = np.dot(hidden_layer_delta2, w1.T)\n",
        "hidden_layer_delta1 = hidden_layer_error1 * gradient(single_xtrain)\n",
        "\n",
        "w3_update = np.dot(output.T, hidden_layer_delta3) / N\n",
        "w2_update = np.dot(act_layer2.T, hidden_layer_delta2) / N\n",
        "w1_update = np.dot(act_layer1.T, hidden_layer_delta1) / N\n",
        "\n",
        "w3_new = w3 - learning_rate * w3_update.T\n",
        "w2_new = w2 - learning_rate * w2_update.T\n",
        "w1_new = w1 - learning_rate * w1_update.T\n"
      ],
      "metadata": {
        "id": "UaiCeYv9wZ89"
      },
      "execution_count": 152,
      "outputs": []
    },
    {
      "cell_type": "code",
      "source": [
        "print(output_layer_delta.shape)"
      ],
      "metadata": {
        "colab": {
          "base_uri": "https://localhost:8080/"
        },
        "id": "H0pya8f4F5I3",
        "outputId": "f09fa12b-1b89-42ff-f824-cb7efb1da666"
      },
      "execution_count": 135,
      "outputs": [
        {
          "output_type": "stream",
          "name": "stdout",
          "text": [
            "(1, 10)\n"
          ]
        }
      ]
    },
    {
      "cell_type": "code",
      "source": [
        "print(w1[0]-w1_new[0])\n",
        "#print(w1_new[0])"
      ],
      "metadata": {
        "colab": {
          "base_uri": "https://localhost:8080/"
        },
        "id": "eXndUShrF5Bb",
        "outputId": "4d171df4-3b74-444e-9bbe-b20faaa38e73"
      },
      "execution_count": 153,
      "outputs": [
        {
          "output_type": "stream",
          "name": "stdout",
          "text": [
            "[-1.84776925e-06 -5.15690271e-06 -2.96739364e-06 -5.51567627e-06\n",
            " -1.13196654e-08 -1.09866897e-06 -4.47589269e-06 -6.66357428e-06\n",
            " -4.80948115e-07 -6.20691979e-07 -5.37745599e-06 -9.89577502e-07\n",
            " -6.05120636e-08 -5.62960989e-06 -7.26459493e-06 -8.88801781e-07\n",
            " -6.17136120e-07 -5.56546244e-06 -6.93461830e-06 -7.22726880e-06\n",
            " -3.48549533e-07 -3.24953289e-06 -5.50913077e-06 -6.78107994e-06\n",
            " -9.56679940e-07 -6.12805627e-07 -7.30552524e-08 -1.97948799e-07\n",
            " -5.90716936e-07 -4.87945313e-06 -5.57708866e-06 -7.26723257e-06\n",
            " -6.39476261e-07 -5.99753679e-06 -7.29017579e-06 -6.97420434e-06\n",
            " -1.33835380e-06 -5.67552387e-06 -2.49388304e-06 -2.95864828e-06\n",
            " -4.55979469e-06 -1.06466117e-06 -5.48326660e-07 -8.87075754e-07\n",
            " -5.56795787e-06 -5.78354355e-06 -3.80885368e-06 -7.31471966e-06\n",
            " -3.14272177e-07 -4.60174355e-06 -5.58250412e-06 -4.28485287e-06\n",
            " -8.02786963e-07 -3.07616383e-06 -9.13355939e-07 -2.24620078e-06\n",
            " -9.02589043e-07 -9.08572166e-07 -9.09301330e-07 -5.01140145e-06\n",
            " -1.24927840e-06 -1.69189806e-06 -1.51331027e-07 -4.36824154e-07\n",
            " -9.26570472e-08 -1.28798472e-09 -1.31408411e-07 -2.71672624e-06\n",
            " -5.00658494e-07 -3.15525661e-06 -5.65437264e-06 -1.45160516e-06\n",
            " -6.89739884e-06 -1.71115096e-06 -7.11947959e-06 -2.52025676e-06\n",
            " -2.16278731e-06 -4.58842070e-06 -1.86191107e-06 -6.99471656e-06\n",
            " -4.02276604e-07 -6.94217819e-06 -1.77567117e-06 -7.24499826e-06\n",
            " -7.10776083e-07 -3.19984972e-06 -7.16349547e-06 -6.35058843e-06\n",
            " -7.06746960e-06 -3.81842468e-06 -1.05543437e-06 -2.66869363e-08\n",
            " -2.37862738e-06 -5.76091818e-06 -2.89101865e-06 -1.56344065e-06\n",
            " -6.84282130e-06 -5.72327300e-06 -2.92495268e-08 -7.21022583e-06]\n"
          ]
        }
      ]
    }
  ]
}